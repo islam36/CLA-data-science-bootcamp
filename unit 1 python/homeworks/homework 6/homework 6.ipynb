{
 "cells": [
  {
   "cell_type": "markdown",
   "id": "520ffa90",
   "metadata": {},
   "source": [
    "# the image\n",
    "![the image](./image.jpg)"
   ]
  },
  {
   "cell_type": "code",
   "execution_count": 1,
   "id": "e5766afc",
   "metadata": {},
   "outputs": [
    {
     "data": {
      "text/plain": [
       "(427, 640, 3)"
      ]
     },
     "execution_count": 1,
     "metadata": {},
     "output_type": "execute_result"
    }
   ],
   "source": [
    "import matplotlib.image as img\n",
    "\n",
    "# reading the image\n",
    "img_path = './image.jpg'\n",
    "image = img.imread(img_path)\n",
    "\n",
    "image.shape"
   ]
  },
  {
   "cell_type": "code",
   "execution_count": 2,
   "id": "29455b9b",
   "metadata": {},
   "outputs": [
    {
     "data": {
      "text/plain": [
       "(3, 640, 427)"
      ]
     },
     "execution_count": 2,
     "metadata": {},
     "output_type": "execute_result"
    }
   ],
   "source": [
    "# Transpose\n",
    "imageT = image.T\n",
    "imageT.shape"
   ]
  },
  {
   "cell_type": "code",
   "execution_count": 11,
   "id": "3554bad7",
   "metadata": {},
   "outputs": [
    {
     "name": "stdout",
     "output_type": "stream",
     "text": [
      "matrix is not diagonal\n"
     ]
    }
   ],
   "source": [
    "# check if it is diagonal\n",
    "# image - diagonal_of_image\n",
    "# then we calculate the number of non zero elements outside the diagonal\n",
    "count_nonzero = np.count_nonzero(image - np.diag(np.diagonal(image)))\n",
    "print(\"matrix is diagonal\") if count_nonzero == 0 else print(\"matrix is not diagonal\")"
   ]
  },
  {
   "cell_type": "code",
   "execution_count": 14,
   "id": "16083d5c",
   "metadata": {},
   "outputs": [
    {
     "data": {
      "text/plain": [
       "False"
      ]
     },
     "execution_count": 14,
     "metadata": {},
     "output_type": "execute_result"
    }
   ],
   "source": [
    "# check if lower triangular\n",
    "np.allclose(image, np.tril(image))"
   ]
  },
  {
   "cell_type": "code",
   "execution_count": 15,
   "id": "b51926bf",
   "metadata": {},
   "outputs": [
    {
     "data": {
      "text/plain": [
       "False"
      ]
     },
     "execution_count": 15,
     "metadata": {},
     "output_type": "execute_result"
    }
   ],
   "source": [
    "# check if upper diagonal\n",
    "np.allclose(image, np.triu(image))"
   ]
  },
  {
   "cell_type": "code",
   "execution_count": 20,
   "id": "45e22da2",
   "metadata": {},
   "outputs": [
    {
     "data": {
      "text/plain": [
       "3825.0"
      ]
     },
     "execution_count": 20,
     "metadata": {},
     "output_type": "execute_result"
    }
   ],
   "source": [
    "# norm L1\n",
    "from numpy.linalg import norm\n",
    "vector = image[1]\n",
    "L1 = norm(vector, 1)\n",
    "L1"
   ]
  },
  {
   "cell_type": "code",
   "execution_count": 23,
   "id": "165c7a08",
   "metadata": {},
   "outputs": [
    {
     "data": {
      "text/plain": [
       "200.99502481404858"
      ]
     },
     "execution_count": 23,
     "metadata": {},
     "output_type": "execute_result"
    }
   ],
   "source": [
    "# norm L2\n",
    "L2 = norm(vector)\n",
    "L2"
   ]
  },
  {
   "cell_type": "code",
   "execution_count": null,
   "id": "52926662",
   "metadata": {},
   "outputs": [],
   "source": []
  }
 ],
 "metadata": {
  "kernelspec": {
   "display_name": "Python 3 (ipykernel)",
   "language": "python",
   "name": "python3"
  },
  "language_info": {
   "codemirror_mode": {
    "name": "ipython",
    "version": 3
   },
   "file_extension": ".py",
   "mimetype": "text/x-python",
   "name": "python",
   "nbconvert_exporter": "python",
   "pygments_lexer": "ipython3",
   "version": "3.9.7"
  }
 },
 "nbformat": 4,
 "nbformat_minor": 5
}
